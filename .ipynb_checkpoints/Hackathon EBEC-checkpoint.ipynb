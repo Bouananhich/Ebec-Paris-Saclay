{
 "cells": [
  {
   "cell_type": "code",
   "execution_count": 5,
   "id": "retained-horizontal",
   "metadata": {},
   "outputs": [],
   "source": [
    "import requests\n",
    "import json\n",
    "import xmltodict\n",
    "import overpy\n",
    "import pandas as pd \n",
    "import geopy\n"
   ]
  },
  {
   "cell_type": "code",
   "execution_count": 6,
   "id": "appointed-proposition",
   "metadata": {},
   "outputs": [],
   "source": [
    "overpass_url = \"http://overpass-api.de/api/interpreter\"\n",
    "overpass_query = \"\"\"[out:json];\n",
    "node[\"public_transport\"=\"stop_position\"]\n",
    "  (50.7393947, 7.196021,50.7393949,7.196022 );\n",
    "way\n",
    "  (around:5);\n",
    "(._;>;);\n",
    "out ;\n",
    "\"\"\"\n",
    "response = requests.get(overpass_url, \n",
    "                        params={'data': overpass_query})\n",
    "\n",
    "data = response.json()"
   ]
  },
  {
   "cell_type": "code",
   "execution_count": 7,
   "id": "protective-guinea",
   "metadata": {},
   "outputs": [
    {
     "data": {
      "text/plain": [
       "{'version': 0.6,\n",
       " 'generator': 'Overpass API 0.7.56.9 76e5016d',\n",
       " 'osm3s': {'timestamp_osm_base': '2021-04-10T13:44:56Z',\n",
       "  'copyright': 'The data included in this document is from www.openstreetmap.org. The data is made available under ODbL.'},\n",
       " 'elements': [{'type': 'node',\n",
       "   'id': 265113287,\n",
       "   'lat': 50.7379278,\n",
       "   'lon': 7.1960615},\n",
       "  {'type': 'node', 'id': 269237860, 'lat': 50.7399033, 'lon': 7.1959936},\n",
       "  {'type': 'node', 'id': 278905885, 'lat': 50.7383749, 'lon': 7.196116},\n",
       "  {'type': 'node', 'id': 278905886, 'lat': 50.7389362, 'lon': 7.1960846},\n",
       "  {'type': 'node',\n",
       "   'id': 1633594723,\n",
       "   'lat': 50.7393948,\n",
       "   'lon': 7.196021,\n",
       "   'tags': {'VRS:gemeinde': 'BONN',\n",
       "    'VRS:ortsteil': 'Hoholz',\n",
       "    'VRS:ref': '68566',\n",
       "    'bus': 'yes',\n",
       "    'name': 'Gielgen',\n",
       "    'public_transport': 'stop_position'}},\n",
       "  {'type': 'node', 'id': 2579022666, 'lat': 50.7380199, 'lon': 7.1961321},\n",
       "  {'type': 'way',\n",
       "   'id': 24417615,\n",
       "   'nodes': [265113287, 2579022666, 278905885, 278905886, 1633594723],\n",
       "   'tags': {'highway': 'residential', 'lit': 'yes', 'name': 'Veilchenweg'}},\n",
       "  {'type': 'way',\n",
       "   'id': 150441180,\n",
       "   'nodes': [1633594723, 269237860],\n",
       "   'tags': {'highway': 'residential', 'lit': 'yes', 'name': 'Veilchenweg'}}]}"
      ]
     },
     "execution_count": 7,
     "metadata": {},
     "output_type": "execute_result"
    }
   ],
   "source": [
    "data"
   ]
  },
  {
   "cell_type": "code",
   "execution_count": 8,
   "id": "appreciated-vault",
   "metadata": {},
   "outputs": [
    {
     "data": {
      "text/plain": [
       "'node[\"name\"=\"Bonn\"];\\nnode\\n  (around:1000)\\n  [\"name\"=\"Gielgen\"];\\nout body;'"
      ]
     },
     "execution_count": 8,
     "metadata": {},
     "output_type": "execute_result"
    }
   ],
   "source": [
    "\"\"\"node[\"name\"=\"Bonn\"];\n",
    "node\n",
    "  (around:1000)\n",
    "  [\"name\"=\"Gielgen\"];\n",
    "out body;\"\"\""
   ]
  },
  {
   "cell_type": "code",
   "execution_count": 9,
   "id": "residential-loading",
   "metadata": {},
   "outputs": [],
   "source": [
    "api = overpy.Overpass()\n",
    "result = api.query(\"\"\"[out:json];node[\"public_transport\"=\"stop_position\"]\n",
    "  (50.7393947, 7.196021,50.7393949,7.196022 );\n",
    "way\n",
    "  (around:5);\n",
    "(._;>;);\n",
    "out body;\"\"\")"
   ]
  },
  {
   "cell_type": "code",
   "execution_count": 10,
   "id": "limited-hypothesis",
   "metadata": {},
   "outputs": [
    {
     "data": {
      "text/plain": [
       "<overpy.Result at 0x144c0576ca0>"
      ]
     },
     "execution_count": 10,
     "metadata": {},
     "output_type": "execute_result"
    }
   ],
   "source": [
    "result"
   ]
  },
  {
   "cell_type": "markdown",
   "id": "royal-consolidation",
   "metadata": {},
   "source": [
    "# Load data"
   ]
  },
  {
   "cell_type": "code",
   "execution_count": 11,
   "id": "according-specific",
   "metadata": {},
   "outputs": [],
   "source": [
    "data_1 = pd.read_csv(\"donnees_obj_1.csv\") \n",
    "data_2 = pd.read_csv(\"donnees_obj_2.csv\") \n",
    "data_3 = pd.read_csv(\"donnees_obj_3.csv\") "
   ]
  },
  {
   "cell_type": "code",
   "execution_count": 12,
   "id": "processed-introduction",
   "metadata": {},
   "outputs": [
    {
     "data": {
      "text/html": [
       "<div>\n",
       "<style scoped>\n",
       "    .dataframe tbody tr th:only-of-type {\n",
       "        vertical-align: middle;\n",
       "    }\n",
       "\n",
       "    .dataframe tbody tr th {\n",
       "        vertical-align: top;\n",
       "    }\n",
       "\n",
       "    .dataframe thead th {\n",
       "        text-align: right;\n",
       "    }\n",
       "</style>\n",
       "<table border=\"1\" class=\"dataframe\">\n",
       "  <thead>\n",
       "    <tr style=\"text-align: right;\">\n",
       "      <th></th>\n",
       "      <th>Unnamed: 0</th>\n",
       "      <th>lat</th>\n",
       "      <th>lng</th>\n",
       "      <th>ville</th>\n",
       "      <th>début du tronçon</th>\n",
       "      <th>fin du tronçon</th>\n",
       "    </tr>\n",
       "  </thead>\n",
       "  <tbody>\n",
       "    <tr>\n",
       "      <th>0</th>\n",
       "      <td>0</td>\n",
       "      <td>48.895252</td>\n",
       "      <td>2.247123</td>\n",
       "      <td>Courbevoie</td>\n",
       "      <td>Rue de Belfort</td>\n",
       "      <td>rue de colmar</td>\n",
       "    </tr>\n",
       "    <tr>\n",
       "      <th>1</th>\n",
       "      <td>1</td>\n",
       "      <td>48.893941</td>\n",
       "      <td>2.247959</td>\n",
       "      <td>Courbevoie</td>\n",
       "      <td>rue d’essling</td>\n",
       "      <td>rue Carnot</td>\n",
       "    </tr>\n",
       "    <tr>\n",
       "      <th>2</th>\n",
       "      <td>2</td>\n",
       "      <td>48.892277</td>\n",
       "      <td>2.253774</td>\n",
       "      <td>Courbevoie</td>\n",
       "      <td>rue d’essling</td>\n",
       "      <td>rue victor hugo</td>\n",
       "    </tr>\n",
       "  </tbody>\n",
       "</table>\n",
       "</div>"
      ],
      "text/plain": [
       "   Unnamed: 0        lat       lng       ville début du tronçon  \\\n",
       "0           0  48.895252  2.247123  Courbevoie   Rue de Belfort   \n",
       "1           1  48.893941  2.247959  Courbevoie    rue d’essling   \n",
       "2           2  48.892277  2.253774  Courbevoie    rue d’essling   \n",
       "\n",
       "    fin du tronçon  \n",
       "0    rue de colmar  \n",
       "1       rue Carnot  \n",
       "2  rue victor hugo  "
      ]
     },
     "execution_count": 12,
     "metadata": {},
     "output_type": "execute_result"
    }
   ],
   "source": [
    "data_1"
   ]
  },
  {
   "cell_type": "code",
   "execution_count": 34,
   "id": "available-yesterday",
   "metadata": {},
   "outputs": [
    {
     "name": "stdout",
     "output_type": "stream",
     "text": [
      "[out:json];\n",
      "way\n",
      "  (around:10,48.895252,2.247123)\n",
      "  [name];\n",
      "(._;>;);\n",
      "out;\n",
      "\n"
     ]
    }
   ],
   "source": [
    "overpass_url = \"http://overpass-api.de/api/interpreter\"\n",
    "area = 10\n",
    "overpass_query = \"\"\"[out:json];\n",
    "way\n",
    "  (around:{},48.895252,2.247123)\n",
    "  [name];\n",
    "(._;>;);\n",
    "out;\n",
    "\"\"\".format(area)\n",
    "print(overpass_query)\n",
    "response = requests.get(overpass_url, \n",
    "                        params={'data': overpass_query})\n",
    "\n",
    "data = response.json()"
   ]
  },
  {
   "cell_type": "code",
   "execution_count": 33,
   "id": "dietary-nursing",
   "metadata": {},
   "outputs": [
    {
     "name": "stdout",
     "output_type": "stream",
     "text": [
      "['Rue de Bitche', 'Rue de Bitche', 'Rue du Sergent Bobillot', 'Rue Kléber', 'Rue de Colmar', 'Rue Ségoffin', 'Rue de Belfort', 'Promenade Saint-Nicolas', 'École maternelle Charles Perrault (annexe)', 'École élémentaire Guynemer', 'La Chancellerie II', 'Rue de Belfort', 'Rue de Belfort', 'Hameau Belfort', 'Rue de Bitche', 'Rue de Bitche']\n"
     ]
    }
   ],
   "source": [
    "ways = [x for x in data['elements'] if x['type'] == 'way']\n",
    "names = [way['tags']['name'] for way in ways]\n",
    "print(names)\n"
   ]
  },
  {
   "cell_type": "code",
   "execution_count": 20,
   "id": "awful-marker",
   "metadata": {},
   "outputs": [
    {
     "data": {
      "text/plain": [
       "{'version': 0.6,\n",
       " 'generator': 'Overpass API 0.7.56.9 76e5016d',\n",
       " 'osm3s': {'timestamp_osm_base': '2021-04-10T13:46:01Z',\n",
       "  'copyright': 'The data included in this document is from www.openstreetmap.org. The data is made available under ODbL.'},\n",
       " 'elements': [{'type': 'node',\n",
       "   'id': 278188184,\n",
       "   'lat': 48.8954354,\n",
       "   'lon': 2.2468606},\n",
       "  {'type': 'node', 'id': 566742133, 'lat': 48.8949829, 'lon': 2.247455},\n",
       "  {'type': 'node', 'id': 566742134, 'lat': 48.8941569, 'lon': 2.24854},\n",
       "  {'type': 'node',\n",
       "   'id': 568063298,\n",
       "   'lat': 48.8942105,\n",
       "   'lon': 2.2484695,\n",
       "   'tags': {'crossing': 'zebra', 'highway': 'crossing', 'kerb': 'lowered'}},\n",
       "  {'type': 'node', 'id': 593864051, 'lat': 48.8947283, 'lon': 2.2477894},\n",
       "  {'type': 'node', 'id': 593960898, 'lat': 48.8946668, 'lon': 2.2478702},\n",
       "  {'type': 'node',\n",
       "   'id': 4171193204,\n",
       "   'lat': 48.8954023,\n",
       "   'lon': 2.2469041,\n",
       "   'tags': {'highway': 'crossing',\n",
       "    'source': 'Microsoft Bing orbital imagery'}},\n",
       "  {'type': 'node', 'id': 4589387790, 'lat': 48.8953155, 'lon': 2.2470181},\n",
       "  {'type': 'way',\n",
       "   'id': 44649405,\n",
       "   'nodes': [278188184,\n",
       "    4171193204,\n",
       "    4589387790,\n",
       "    566742133,\n",
       "    593864051,\n",
       "    593960898,\n",
       "    568063298,\n",
       "    566742134],\n",
       "   'tags': {'highway': 'residential',\n",
       "    'name': 'Rue Kléber',\n",
       "    'oneway': 'no',\n",
       "    'surface': 'asphalt'}}]}"
      ]
     },
     "execution_count": 20,
     "metadata": {},
     "output_type": "execute_result"
    }
   ],
   "source": [
    "data\n"
   ]
  },
  {
   "cell_type": "markdown",
   "id": "worthy-hungarian",
   "metadata": {},
   "source": [
    "### trouver la ville "
   ]
  },
  {
   "cell_type": "code",
   "execution_count": 40,
   "id": "variable-place",
   "metadata": {},
   "outputs": [
    {
     "ename": "NameError",
     "evalue": "name 'rad' is not defined",
     "output_type": "error",
     "traceback": [
      "\u001b[1;31m---------------------------------------------------------------------------\u001b[0m",
      "\u001b[1;31mNameError\u001b[0m                                 Traceback (most recent call last)",
      "\u001b[1;32m<ipython-input-40-f72072163ad6>\u001b[0m in \u001b[0;36m<module>\u001b[1;34m\u001b[0m\n\u001b[0;32m      1\u001b[0m \u001b[0moverpass_url\u001b[0m \u001b[1;33m=\u001b[0m \u001b[1;34m\"http://overpass-api.de/api/interpreter\"\u001b[0m\u001b[1;33m\u001b[0m\u001b[1;33m\u001b[0m\u001b[0m\n\u001b[0;32m      2\u001b[0m overpass_query = f\"\"\"[out:json][timeout:25];\n\u001b[1;32m----> 3\u001b[1;33m (node[\"place\"=\"town\"](around:{rad},{lat},{long});\n\u001b[0m\u001b[0;32m      4\u001b[0m node[\"place\"=\"city\"](around:{rad},{lat},{long}););\n\u001b[0;32m      5\u001b[0m \u001b[0mout\u001b[0m \u001b[0mbody\u001b[0m\u001b[1;33m;\u001b[0m\u001b[1;33m\u001b[0m\u001b[1;33m\u001b[0m\u001b[0m\n",
      "\u001b[1;31mNameError\u001b[0m: name 'rad' is not defined"
     ]
    }
   ],
   "source": [
    "overpass_url = \"http://overpass-api.de/api/interpreter\"\n",
    "overpass_query = f\"\"\"[out:json][timeout:25];\n",
    "(node[\"place\"=\"town\"](around:{rad},{lat},{long});\n",
    "node[\"place\"=\"city\"](around:{rad},{lat},{long}););\n",
    "out body;\n",
    ">;\n",
    "out skel qt;\"\"\"\n",
    "print(overpass_query)\n",
    "response = requests.get(overpass_url, \n",
    "                        params={'data': overpass_query})\n",
    "\n",
    "data = response.json()"
   ]
  },
  {
   "cell_type": "code",
   "execution_count": 28,
   "id": "virtual-building",
   "metadata": {},
   "outputs": [
    {
     "data": {
      "text/plain": [
       "'Courbevoie'"
      ]
     },
     "execution_count": 28,
     "metadata": {},
     "output_type": "execute_result"
    }
   ],
   "source": [
    "ville = data['elements'][0]['tags']['name']\n",
    "ville"
   ]
  },
  {
   "cell_type": "code",
   "execution_count": 57,
   "id": "specified-vacuum",
   "metadata": {},
   "outputs": [],
   "source": [
    "def trouver_ville(lat,long):\n",
    "    n_iter = 0\n",
    "    radplus = 10000\n",
    "    radmoins = 0\n",
    "    rad = (radplus+radmoins)/2\n",
    "    overpass_query = f\"\"\"[out:json][timeout:25];\n",
    "                        (node[\"place\"=\"town\"](around:{rad},{lat},{long});\n",
    "                        node[\"place\"=\"city\"](around:{rad},{lat},{long}););\n",
    "                        out body;\n",
    "                        >;\n",
    "                        out skel qt;\"\"\"\n",
    "    response = requests.get(overpass_url, \n",
    "                        params={'data': overpass_query})\n",
    "    data = response.json()\n",
    "    while len(data['elements']) != 1:\n",
    "        if n_iter == 10:\n",
    "            n_iter = 0\n",
    "            radplus += 1000\n",
    "            rad = (radplus+radmoins)/2\n",
    "            overpass_query = f\"\"\"[out:json][timeout:25];\n",
    "                                (node[\"place\"=\"town\"](around:{rad},{lat},{long});\n",
    "                                node[\"place\"=\"city\"](around:{rad},{lat},{long}););\n",
    "                                out body;\n",
    "                                >;\n",
    "                                out skel qt;\"\"\"\n",
    "            response = requests.get(overpass_url, \n",
    "                                params={'data': overpass_query})\n",
    "            data = response.json()\n",
    "        elif len(data['elements']) == 0:\n",
    "            n_iter += 1\n",
    "            radmoins = rad\n",
    "            rad = (radplus+radmoins)/2\n",
    "            overpass_query = f\"\"\"[out:json][timeout:25];\n",
    "                                (node[\"place\"=\"town\"](around:{rad},{lat},{long});\n",
    "                                node[\"place\"=\"city\"](around:{rad},{lat},{long}););\n",
    "                                out body;\n",
    "                                >;\n",
    "                                out skel qt;\"\"\"\n",
    "            response = requests.get(overpass_url, \n",
    "                                params={'data': overpass_query})\n",
    "            data = response.json()\n",
    "        elif len(data['elements']) >= 2:\n",
    "            n_iter =0\n",
    "            radplus = rad\n",
    "            rad = (radplus+radmoins)/2\n",
    "            print(rad)\n",
    "            overpass_query = f\"\"\"[out:json][timeout:25];\n",
    "                                (node[\"place\"=\"town\"](around:{rad},{lat},{long});\n",
    "                                node[\"place\"=\"city\"](around:{rad},{lat},{long}););\n",
    "                                out body;\n",
    "                                >;\n",
    "                                out skel qt;\"\"\"\n",
    "            response = requests.get(overpass_url, \n",
    "                                params={'data': overpass_query})\n",
    "            data = response.json()\n",
    "    return data['elements'][0]['tags']['name']\n",
    "    "
   ]
  },
  {
   "cell_type": "code",
   "execution_count": 56,
   "id": "interracial-thinking",
   "metadata": {},
   "outputs": [
    {
     "data": {
      "text/plain": [
       "'Saint-Fargeau-Ponthierry'"
      ]
     },
     "execution_count": 56,
     "metadata": {},
     "output_type": "execute_result"
    }
   ],
   "source": [
    "trouver_ville(48.45256,2.45662)"
   ]
  },
  {
   "cell_type": "code",
   "execution_count": null,
   "id": "impaired-stake",
   "metadata": {},
   "outputs": [],
   "source": []
  },
  {
   "cell_type": "code",
   "execution_count": null,
   "id": "auburn-majority",
   "metadata": {},
   "outputs": [],
   "source": []
  }
 ],
 "metadata": {
  "kernelspec": {
   "display_name": "Python 3",
   "language": "python",
   "name": "python3"
  },
  "language_info": {
   "codemirror_mode": {
    "name": "ipython",
    "version": 3
   },
   "file_extension": ".py",
   "mimetype": "text/x-python",
   "name": "python",
   "nbconvert_exporter": "python",
   "pygments_lexer": "ipython3",
   "version": "3.8.2"
  }
 },
 "nbformat": 4,
 "nbformat_minor": 5
}
