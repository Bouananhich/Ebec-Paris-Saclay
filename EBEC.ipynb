{
 "cells": [
  {
   "cell_type": "code",
   "execution_count": 30,
   "metadata": {},
   "outputs": [
    {
     "name": "stdout",
     "output_type": "stream",
     "text": [
      "Requirement already satisfied: OSMPythonTools in c:\\users\\anneq\\anaconda3\\lib\\site-packages (0.3.0)\n",
      "Requirement already satisfied: ujson in c:\\users\\anneq\\anaconda3\\lib\\site-packages (from OSMPythonTools) (1.35)\n",
      "Requirement already satisfied: xarray in c:\\users\\anneq\\anaconda3\\lib\\site-packages (from OSMPythonTools) (0.17.0)\n",
      "Requirement already satisfied: geojson in c:\\users\\anneq\\anaconda3\\lib\\site-packages (from OSMPythonTools) (2.5.0)\n",
      "Requirement already satisfied: pandas in c:\\users\\anneq\\anaconda3\\lib\\site-packages (from OSMPythonTools) (1.0.1)\n",
      "Requirement already satisfied: pytest in c:\\users\\anneq\\anaconda3\\lib\\site-packages (from OSMPythonTools) (5.3.5)\n",
      "Requirement already satisfied: beautifulsoup4 in c:\\users\\anneq\\anaconda3\\lib\\site-packages (from OSMPythonTools) (4.8.2)\n",
      "Requirement already satisfied: pytest-sugar in c:\\users\\anneq\\anaconda3\\lib\\site-packages (from OSMPythonTools) (0.9.4)\n",
      "Requirement already satisfied: lxml in c:\\users\\anneq\\anaconda3\\lib\\site-packages (from OSMPythonTools) (4.5.0)\n",
      "Requirement already satisfied: matplotlib in c:\\users\\anneq\\anaconda3\\lib\\site-packages (from OSMPythonTools) (3.1.3)\n",
      "Requirement already satisfied: numpy in c:\\users\\anneq\\anaconda3\\lib\\site-packages (from OSMPythonTools) (1.18.1)\n",
      "Requirement already satisfied: setuptools>=40.4 in c:\\users\\anneq\\anaconda3\\lib\\site-packages (from xarray->OSMPythonTools) (45.2.0.post20200210)\n",
      "Requirement already satisfied: python-dateutil>=2.6.1 in c:\\users\\anneq\\anaconda3\\lib\\site-packages (from pandas->OSMPythonTools) (2.8.1)\n",
      "Requirement already satisfied: pytz>=2017.2 in c:\\users\\anneq\\anaconda3\\lib\\site-packages (from pandas->OSMPythonTools) (2019.3)\n",
      "Requirement already satisfied: py>=1.5.0 in c:\\users\\anneq\\anaconda3\\lib\\site-packages (from pytest->OSMPythonTools) (1.8.1)\n",
      "Requirement already satisfied: packaging in c:\\users\\anneq\\anaconda3\\lib\\site-packages (from pytest->OSMPythonTools) (20.1)\n",
      "Requirement already satisfied: attrs>=17.4.0 in c:\\users\\anneq\\anaconda3\\lib\\site-packages (from pytest->OSMPythonTools) (19.3.0)\n",
      "Requirement already satisfied: more-itertools>=4.0.0 in c:\\users\\anneq\\anaconda3\\lib\\site-packages (from pytest->OSMPythonTools) (8.2.0)\n",
      "Requirement already satisfied: pluggy<1.0,>=0.12 in c:\\users\\anneq\\anaconda3\\lib\\site-packages (from pytest->OSMPythonTools) (0.13.1)\n",
      "Requirement already satisfied: wcwidth in c:\\users\\anneq\\anaconda3\\lib\\site-packages (from pytest->OSMPythonTools) (0.1.8)\n",
      "Requirement already satisfied: importlib-metadata>=0.12 in c:\\users\\anneq\\anaconda3\\lib\\site-packages (from pytest->OSMPythonTools) (1.5.0)\n",
      "Requirement already satisfied: atomicwrites>=1.0 in c:\\users\\anneq\\anaconda3\\lib\\site-packages (from pytest->OSMPythonTools) (1.3.0)\n",
      "Requirement already satisfied: colorama in c:\\users\\anneq\\anaconda3\\lib\\site-packages (from pytest->OSMPythonTools) (0.4.3)\n",
      "Requirement already satisfied: soupsieve>=1.2 in c:\\users\\anneq\\anaconda3\\lib\\site-packages (from beautifulsoup4->OSMPythonTools) (1.9.5)\n",
      "Requirement already satisfied: termcolor>=1.1.0 in c:\\users\\anneq\\anaconda3\\lib\\site-packages (from pytest-sugar->OSMPythonTools) (1.1.0)\n",
      "Requirement already satisfied: pyparsing!=2.0.4,!=2.1.2,!=2.1.6,>=2.0.1 in c:\\users\\anneq\\anaconda3\\lib\\site-packages (from matplotlib->OSMPythonTools) (2.4.6)\n",
      "Requirement already satisfied: kiwisolver>=1.0.1 in c:\\users\\anneq\\anaconda3\\lib\\site-packages (from matplotlib->OSMPythonTools) (1.1.0)\n",
      "Requirement already satisfied: cycler>=0.10 in c:\\users\\anneq\\anaconda3\\lib\\site-packages (from matplotlib->OSMPythonTools) (0.10.0)\n",
      "Requirement already satisfied: six>=1.5 in c:\\users\\anneq\\anaconda3\\lib\\site-packages (from python-dateutil>=2.6.1->pandas->OSMPythonTools) (1.14.0)\n",
      "Requirement already satisfied: zipp>=0.5 in c:\\users\\anneq\\anaconda3\\lib\\site-packages (from importlib-metadata>=0.12->pytest->OSMPythonTools) (2.2.0)\n",
      "Note: you may need to restart the kernel to use updated packages.\n"
     ]
    }
   ],
   "source": [
    "pip install OSMPythonTools"
   ]
  },
  {
   "cell_type": "code",
   "execution_count": 31,
   "metadata": {},
   "outputs": [],
   "source": [
    "\n",
    "from OSMPythonTools.api import Api\n",
    "api=Api()\n",
    "\n",
    "way=api.query('way/5887599')"
   ]
  },
  {
   "cell_type": "code",
   "execution_count": 10,
   "metadata": {},
   "outputs": [
    {
     "data": {
      "text/plain": [
       "'https://www.belvedere.at/'"
      ]
     },
     "execution_count": 10,
     "metadata": {},
     "output_type": "execute_result"
    }
   ],
   "source": [
    "way.tag('building')\n",
    "way.tag('architect')\n",
    "way.tag('website')"
   ]
  },
  {
   "cell_type": "code",
   "execution_count": 1,
   "metadata": {},
   "outputs": [],
   "source": [
    "from OSMPythonTools.overpass import Overpass\n",
    "overpass = Overpass()\n",
    "result = overpass.query('way[\"name\"=\"Stephansdom\"]; out body;')"
   ]
  },
  {
   "cell_type": "code",
   "execution_count": 2,
   "metadata": {},
   "outputs": [],
   "source": [
    "stephansdom = result.elements()[0]"
   ]
  },
  {
   "cell_type": "code",
   "execution_count": 3,
   "metadata": {},
   "outputs": [
    {
     "data": {
      "text/plain": [
       "\"Saint Stephen's Cathedral\""
      ]
     },
     "execution_count": 3,
     "metadata": {},
     "output_type": "execute_result"
    }
   ],
   "source": [
    "stephansdom.tag('name:en')"
   ]
  },
  {
   "cell_type": "code",
   "execution_count": 15,
   "metadata": {},
   "outputs": [
    {
     "name": "stdout",
     "output_type": "stream",
     "text": [
      "Collecting overpy\n",
      "  Downloading overpy-0.4.tar.gz (41 kB)\n",
      "Building wheels for collected packages: overpy\n",
      "  Building wheel for overpy (setup.py): started\n",
      "  Building wheel for overpy (setup.py): finished with status 'done'\n",
      "  Created wheel for overpy: filename=overpy-0.4-py3-none-any.whl size=45776 sha256=69ddd732f313b83bb69d2b71e7ef881984f403d588a6ced608bc065ae57a6128\n",
      "  Stored in directory: c:\\users\\anneq\\appdata\\local\\pip\\cache\\wheels\\cf\\a7\\5b\\56d2726f3a2105ffa9f41409caa57a46ca7f0058d09bcf41cf\n",
      "Successfully built overpy\n",
      "Installing collected packages: overpy\n",
      "Successfully installed overpy-0.4\n",
      "Note: you may need to restart the kernel to use updated packages.\n"
     ]
    }
   ],
   "source": [
    "pip install overpy\n"
   ]
  },
  {
   "cell_type": "code",
   "execution_count": 16,
   "metadata": {},
   "outputs": [],
   "source": [
    "import requests\n",
    "import json\n",
    "import xmltodict\n",
    "\n",
    "import overpy"
   ]
  },
  {
   "cell_type": "code",
   "execution_count": 89,
   "metadata": {},
   "outputs": [],
   "source": [
    "overpass_url=\"http://overpass-api.de/api/interpreter\"\n",
    "overpass_query=\"\"\"[out:json]; node[\"public_transport\"=\"stop_position\"]\n",
    "    (50.7393947, 7.196021,50.7393949,7.196022);\n",
    "way\n",
    "    (around:5);\n",
    "(._;>;);\n",
    "out;\n",
    "\"\"\"\n",
    "response=requests.get(overpass_url, params={'data': overpass_query})\n",
    "data=response.json()"
   ]
  },
  {
   "cell_type": "code",
   "execution_count": 90,
   "metadata": {},
   "outputs": [
    {
     "data": {
      "text/plain": [
       "{'version': 0.6,\n",
       " 'generator': 'Overpass API 0.7.56.9 76e5016d',\n",
       " 'osm3s': {'timestamp_osm_base': '2021-04-09T11:19:36Z',\n",
       "  'copyright': 'The data included in this document is from www.openstreetmap.org. The data is made available under ODbL.'},\n",
       " 'elements': []}"
      ]
     },
     "execution_count": 90,
     "metadata": {},
     "output_type": "execute_result"
    }
   ],
   "source": [
    "data"
   ]
  },
  {
   "cell_type": "code",
   "execution_count": 91,
   "metadata": {},
   "outputs": [],
   "source": [
    "\n",
    "overpass_query=\"\"\"[out:json];\n",
    "(\n",
    " node(around:50,46.512,7.827) [\"natural\"];\n",
    " node(around:50,46.512,7.827) [\"highway\"];\n",
    " node(around:1500,46.512,7.827) [\"place\"];\n",
    " node(around:50,46.512,7.827) [\"tourism\"];\n",
    "); \n",
    "out body;\n",
    "\"\"\"\n",
    "data = requests.get(overpass_url,params={'data':overpass_query}).json()\n"
   ]
  },
  {
   "cell_type": "code",
   "execution_count": 92,
   "metadata": {},
   "outputs": [
    {
     "data": {
      "text/plain": [
       "{'version': 0.6,\n",
       " 'generator': 'Overpass API 0.7.56.9 76e5016d',\n",
       " 'osm3s': {'timestamp_osm_base': '2021-04-09T11:24:53Z',\n",
       "  'copyright': 'The data included in this document is from www.openstreetmap.org. The data is made available under ODbL.'},\n",
       " 'elements': []}"
      ]
     },
     "execution_count": 92,
     "metadata": {},
     "output_type": "execute_result"
    }
   ],
   "source": [
    "data"
   ]
  },
  {
   "cell_type": "code",
   "execution_count": 99,
   "metadata": {
    "jupyter": {
     "source_hidden": true
    }
   },
   "outputs": [],
   "source": [
    "overpass_url = \"http://overpass-api.de/api/interpreter\"\n",
    "overpass_query = \"\"\"[out:json];\n",
    "way\n",
    "  (around:10,48.895252,2.247123)\n",
    "  [name];\n",
    "(._;>;);\n",
    "out;\n",
    "\"\"\"\n",
    "response = requests.get(overpass_url, \n",
    "                        params={'data': overpass_query})\n",
    "\n",
    "data = response.json()"
   ]
  },
  {
   "cell_type": "code",
   "execution_count": 100,
   "metadata": {},
   "outputs": [
    {
     "name": "stdout",
     "output_type": "stream",
     "text": [
      "['Rue Kléber']\n"
     ]
    }
   ],
   "source": [
    "ways = [x for x in data['elements'] if x['type'] == 'way']\n",
    "names = [way['tags']['name'] for way in ways]\n",
    "print(names)"
   ]
  },
  {
   "cell_type": "code",
   "execution_count": 122,
   "metadata": {},
   "outputs": [],
   "source": [
    "overpass_url = \"http://overpass-api.de/api/interpreter\"\n",
    "overpass_query = \"\"\"[out:json][timeout:25];\n",
    "(node[\"place\"=\"town\"](48.878320,2.192116,48.919059,2.322493);\n",
    "node[\"place\"=\"city\"](48.878320,2.192116,48.919059,2.322493););\n",
    "out body;\n",
    ">;\n",
    "out skel qt;\"\"\"\n",
    "response = requests.get(overpass_url, \n",
    "                        params={'data': overpass_query})\n",
    "\n",
    "data = response.json()"
   ]
  },
  {
   "cell_type": "code",
   "execution_count": 123,
   "metadata": {},
   "outputs": [
    {
     "data": {
      "text/plain": [
       "{'version': 0.6,\n",
       " 'generator': 'Overpass API 0.7.56.9 76e5016d',\n",
       " 'osm3s': {'timestamp_osm_base': '2021-04-10T13:04:37Z',\n",
       "  'copyright': 'The data included in this document is from www.openstreetmap.org. The data is made available under ODbL.'},\n",
       " 'elements': [{'type': 'node',\n",
       "   'id': 26691489,\n",
       "   'lat': 48.9026,\n",
       "   'lon': 2.30551,\n",
       "   'tags': {'addr:postcode': '92110',\n",
       "    'alt_name': 'Clichy-la-Garenne',\n",
       "    'name': 'Clichy',\n",
       "    'name:el': 'Κλισί',\n",
       "    'name:fr': 'Clichy',\n",
       "    'name:ja': 'クリシー',\n",
       "    'name:ru': 'Клиши',\n",
       "    'old_name': 'Clichy-sur-Seine',\n",
       "    'place': 'town',\n",
       "    'population': '58916',\n",
       "    'source:population': 'INSEE 2013',\n",
       "    'wikidata': 'Q201982',\n",
       "    'wikipedia': 'fr:Clichy'}},\n",
       "  {'type': 'node',\n",
       "   'id': 26691586,\n",
       "   'lat': 48.8924273,\n",
       "   'lon': 2.2071267,\n",
       "   'tags': {'addr:postcode': '92000',\n",
       "    'capital': '6',\n",
       "    'name': 'Nanterre',\n",
       "    'name:fr': 'Nanterre',\n",
       "    'name:ja': 'ナンテール郡',\n",
       "    'name:ru': 'Нантер',\n",
       "    'place': 'town',\n",
       "    'population': '89185',\n",
       "    'source:population': 'INSEE 2013',\n",
       "    'wikidata': 'Q170507',\n",
       "    'wikipedia': 'fr:Nanterre'}},\n",
       "  {'type': 'node',\n",
       "   'id': 26691713,\n",
       "   'lat': 48.9148269,\n",
       "   'lon': 2.2674892,\n",
       "   'tags': {'addr:postcode': '92270',\n",
       "    'name': 'Bois-Colombes',\n",
       "    'name:el': 'Μπουά-Κολόμπ',\n",
       "    'name:fr': 'Bois-Colombes',\n",
       "    'name:ru': 'Буа-Коломб',\n",
       "    'place': 'town',\n",
       "    'population': '29284',\n",
       "    'source:population': 'INSEE 2013',\n",
       "    'wikidata': 'Q212566'}},\n",
       "  {'type': 'node',\n",
       "   'id': 26691715,\n",
       "   'lat': 48.9069349,\n",
       "   'lon': 2.2465748,\n",
       "   'tags': {'addr:postcode': '92250',\n",
       "    'name': 'La Garenne-Colombes',\n",
       "    'name:el': 'Λα Γκαρέν-Κολόμπ',\n",
       "    'place': 'town',\n",
       "    'population': '27700',\n",
       "    'wikidata': 'Q236658'}},\n",
       "  {'type': 'node',\n",
       "   'id': 26691761,\n",
       "   'lat': 48.884683,\n",
       "   'lon': 2.2695658,\n",
       "   'tags': {'addr:postcode': '92200',\n",
       "    'name': 'Neuilly-sur-Seine',\n",
       "    'name:el': 'Νεϊγί-συρ-Σεν',\n",
       "    'name:fr': 'Neuilly-sur-Seine',\n",
       "    'name:ja': 'ヌイイ＝シュル＝セーヌ',\n",
       "    'name:ru': 'Нёйи-сюр-Сен',\n",
       "    'place': 'town',\n",
       "    'population': '61754',\n",
       "    'source:population': 'INSEE 2013',\n",
       "    'wikidata': 'Q48958',\n",
       "    'wikipedia': 'fr:Neuilly-sur-Seine'}},\n",
       "  {'type': 'node',\n",
       "   'id': 26691856,\n",
       "   'lat': 48.8953328,\n",
       "   'lon': 2.2561602,\n",
       "   'tags': {'addr:postcode': '92400',\n",
       "    'name': 'Courbevoie',\n",
       "    'name:el': 'Κουρμπεβουά',\n",
       "    'name:fr': 'Courbevoie',\n",
       "    'name:ja': 'クールブヴォア',\n",
       "    'name:ru': 'Курбевуа',\n",
       "    'place': 'town',\n",
       "    'population': '87469',\n",
       "    'source:population': 'INSEE 2013',\n",
       "    'wikidata': 'Q189715',\n",
       "    'wikipedia': 'fr:Courbevoie'}},\n",
       "  {'type': 'node',\n",
       "   'id': 26692567,\n",
       "   'lat': 48.892956,\n",
       "   'lon': 2.2881683,\n",
       "   'tags': {'addr:postcode': '92300',\n",
       "    'alt_name': 'Levallois',\n",
       "    'name': 'Levallois-Perret',\n",
       "    'name:fr': 'Levallois-Perret',\n",
       "    'name:ja': 'ルヴァロワ＝ペレ',\n",
       "    'name:ru': 'Леваллуа-Перре',\n",
       "    'place': 'town',\n",
       "    'population': '64253',\n",
       "    'source:population': 'INSEE 2013',\n",
       "    'wikidata': 'Q166640',\n",
       "    'wikipedia': 'fr:Levallois-Perret'}},\n",
       "  {'type': 'node',\n",
       "   'id': 1358669038,\n",
       "   'lat': 48.9105948,\n",
       "   'lon': 2.2890454,\n",
       "   'tags': {'addr:postcode': '92600',\n",
       "    'name': 'Asnières-sur-Seine',\n",
       "    'name:fr': 'Asnières-sur-Seine',\n",
       "    'name:ja': 'アニエール＝シュル＝セーヌ',\n",
       "    'name:ru': 'Аньер-сюр-Сен',\n",
       "    'name:uk': 'Аньєр-сюр-Сен',\n",
       "    'place': 'town',\n",
       "    'population': '81666',\n",
       "    'wikidata': 'Q191415',\n",
       "    'wikipedia': 'fr:Asnières-sur-Seine'}},\n",
       "  {'type': 'node',\n",
       "   'id': 1363278030,\n",
       "   'lat': 48.8841522,\n",
       "   'lon': 2.2368863,\n",
       "   'tags': {'addr:postcode': '92800',\n",
       "    'name': 'Puteaux',\n",
       "    'name:el': 'Πυτώ',\n",
       "    'name:fr': 'Puteaux',\n",
       "    'name:ru': 'Пюто',\n",
       "    'name:uk': 'Пюто',\n",
       "    'place': 'town',\n",
       "    'population': '44548',\n",
       "    'wikidata': 'Q234743',\n",
       "    'wikipedia': 'fr:Puteaux'}}]}"
      ]
     },
     "execution_count": 123,
     "metadata": {},
     "output_type": "execute_result"
    }
   ],
   "source": [
    "data"
   ]
  },
  {
   "cell_type": "code",
   "execution_count": 124,
   "metadata": {},
   "outputs": [],
   "source": [
    "def coordonnees_boite(coordonnees):\n",
    "    return (coordonnees[0]-0.01,coordonnees[1]-0.01,coordonnees[0]+0.01,coordonnees[1]+0.01)"
   ]
  },
  {
   "cell_type": "code",
   "execution_count": 125,
   "metadata": {},
   "outputs": [
    {
     "data": {
      "text/plain": [
       "(48.885252, 2.2371230000000004, 48.905252, 2.257123)"
      ]
     },
     "execution_count": 125,
     "metadata": {},
     "output_type": "execute_result"
    }
   ],
   "source": [
    "point=[48.895252,2.247123]\n",
    "test=coordonnees_boite(point)\n",
    "test"
   ]
  },
  {
   "cell_type": "code",
   "execution_count": 126,
   "metadata": {},
   "outputs": [],
   "source": [
    "overpass_url = \"http://overpass-api.de/api/interpreter\"\n",
    "overpass_query = \"\"\"[out:json][timeout:25];\n",
    "(node[\"place\"=\"town\"](48.885252, 2.2371230000000004, 48.905252, 2.257123)\n",
    ";\n",
    "node[\"place\"=\"city\"](48.885252, 2.2371230000000004, 48.905252, 2.257123)\n",
    ";);\n",
    "out body;\n",
    ">;\n",
    "out skel qt;\"\"\"\n",
    "response = requests.get(overpass_url, \n",
    "                        params={'data': overpass_query})\n",
    "\n",
    "data = response.json()"
   ]
  },
  {
   "cell_type": "code",
   "execution_count": 127,
   "metadata": {},
   "outputs": [
    {
     "data": {
      "text/plain": [
       "{'version': 0.6,\n",
       " 'generator': 'Overpass API 0.7.56.9 76e5016d',\n",
       " 'osm3s': {'timestamp_osm_base': '2021-04-10T13:04:37Z',\n",
       "  'copyright': 'The data included in this document is from www.openstreetmap.org. The data is made available under ODbL.'},\n",
       " 'elements': [{'type': 'node',\n",
       "   'id': 26691856,\n",
       "   'lat': 48.8953328,\n",
       "   'lon': 2.2561602,\n",
       "   'tags': {'addr:postcode': '92400',\n",
       "    'name': 'Courbevoie',\n",
       "    'name:el': 'Κουρμπεβουά',\n",
       "    'name:fr': 'Courbevoie',\n",
       "    'name:ja': 'クールブヴォア',\n",
       "    'name:ru': 'Курбевуа',\n",
       "    'place': 'town',\n",
       "    'population': '87469',\n",
       "    'source:population': 'INSEE 2013',\n",
       "    'wikidata': 'Q189715',\n",
       "    'wikipedia': 'fr:Courbevoie'}}]}"
      ]
     },
     "execution_count": 127,
     "metadata": {},
     "output_type": "execute_result"
    }
   ],
   "source": [
    "data\n"
   ]
  },
  {
   "cell_type": "code",
   "execution_count": null,
   "metadata": {},
   "outputs": [],
   "source": []
  }
 ],
 "metadata": {
  "kernelspec": {
   "display_name": "Python 3",
   "language": "python",
   "name": "python3"
  },
  "language_info": {
   "codemirror_mode": {
    "name": "ipython",
    "version": 3
   },
   "file_extension": ".py",
   "mimetype": "text/x-python",
   "name": "python",
   "nbconvert_exporter": "python",
   "pygments_lexer": "ipython3",
   "version": "3.7.6"
  }
 },
 "nbformat": 4,
 "nbformat_minor": 4
}
