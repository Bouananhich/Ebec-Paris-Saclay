{
 "cells": [
  {
   "cell_type": "code",
   "execution_count": 1,
   "id": "retained-horizontal",
   "metadata": {},
   "outputs": [],
   "source": [
    "import requests\n",
    "import json\n",
    "import xmltodict\n",
    "import \n",
    "import pandas as pd \n",
    "\n"
   ]
  },
  {
   "cell_type": "code",
   "execution_count": 6,
   "id": "appointed-proposition",
   "metadata": {},
   "outputs": [],
   "source": [
    "overpass_url = \"http://overpass-api.de/api/interpreter\"\n",
    "overpass_query = \"\"\"[out:json];\n",
    "node[\"public_transport\"=\"stop_position\"]\n",
    "  (50.7393947, 7.196021,50.7393949,7.196022 );\n",
    "way\n",
    "  (around:5);\n",
    "(._;>;);\n",
    "out ;\n",
    "\"\"\"\n",
    "response = requests.get(overpass_url, \n",
    "                        params={'data': overpass_query})\n",
    "\n",
    "data = response.json()"
   ]
  },
  {
   "cell_type": "code",
   "execution_count": 7,
   "id": "protective-guinea",
   "metadata": {},
   "outputs": [
    {
     "data": {
      "text/plain": [
       "{'version': 0.6,\n",
       " 'generator': 'Overpass API 0.7.56.9 76e5016d',\n",
       " 'osm3s': {'timestamp_osm_base': '2021-04-09T10:13:10Z',\n",
       "  'copyright': 'The data included in this document is from www.openstreetmap.org. The data is made available under ODbL.'},\n",
       " 'elements': [{'type': 'node',\n",
       "   'id': 265113287,\n",
       "   'lat': 50.7379278,\n",
       "   'lon': 7.1960615},\n",
       "  {'type': 'node', 'id': 269237860, 'lat': 50.7399033, 'lon': 7.1959936},\n",
       "  {'type': 'node', 'id': 278905885, 'lat': 50.7383749, 'lon': 7.196116},\n",
       "  {'type': 'node', 'id': 278905886, 'lat': 50.7389362, 'lon': 7.1960846},\n",
       "  {'type': 'node',\n",
       "   'id': 1633594723,\n",
       "   'lat': 50.7393948,\n",
       "   'lon': 7.196021,\n",
       "   'tags': {'VRS:gemeinde': 'BONN',\n",
       "    'VRS:ortsteil': 'Hoholz',\n",
       "    'VRS:ref': '68566',\n",
       "    'bus': 'yes',\n",
       "    'name': 'Gielgen',\n",
       "    'public_transport': 'stop_position'}},\n",
       "  {'type': 'node', 'id': 2579022666, 'lat': 50.7380199, 'lon': 7.1961321},\n",
       "  {'type': 'way',\n",
       "   'id': 24417615,\n",
       "   'nodes': [265113287, 2579022666, 278905885, 278905886, 1633594723],\n",
       "   'tags': {'highway': 'residential', 'lit': 'yes', 'name': 'Veilchenweg'}},\n",
       "  {'type': 'way',\n",
       "   'id': 150441180,\n",
       "   'nodes': [1633594723, 269237860],\n",
       "   'tags': {'highway': 'residential', 'lit': 'yes', 'name': 'Veilchenweg'}}]}"
      ]
     },
     "execution_count": 7,
     "metadata": {},
     "output_type": "execute_result"
    }
   ],
   "source": [
    "data"
   ]
  },
  {
   "cell_type": "code",
   "execution_count": null,
   "id": "appreciated-vault",
   "metadata": {},
   "outputs": [],
   "source": [
    "\"\"\"node[\"name\"=\"Bonn\"];\n",
    "node\n",
    "  (around:1000)\n",
    "  [\"name\"=\"Gielgen\"];\n",
    "out body;\"\"\""
   ]
  },
  {
   "cell_type": "code",
   "execution_count": 4,
   "id": "residential-loading",
   "metadata": {},
   "outputs": [],
   "source": [
    "api = overpy.Overpass()\n",
    "result = api.query(\"\"\"[out:json];node[\"public_transport\"=\"stop_position\"]\n",
    "  (50.7393947, 7.196021,50.7393949,7.196022 );\n",
    "way\n",
    "  (around:5);\n",
    "(._;>;);\n",
    "out body;\"\"\")"
   ]
  },
  {
   "cell_type": "code",
   "execution_count": 5,
   "id": "limited-hypothesis",
   "metadata": {},
   "outputs": [
    {
     "data": {
      "text/plain": [
       "<overpy.Result at 0x20396883f40>"
      ]
     },
     "execution_count": 5,
     "metadata": {},
     "output_type": "execute_result"
    }
   ],
   "source": [
    "result"
   ]
  },
  {
   "cell_type": "markdown",
   "id": "royal-consolidation",
   "metadata": {},
   "source": [
    "# Load data"
   ]
  },
  {
   "cell_type": "code",
   "execution_count": null,
   "id": "according-specific",
   "metadata": {},
   "outputs": [],
   "source": [
    "data_1 = pd.read_csv(\"donnee obj 1.csv\") \n",
    "data_2 = pd.read_csv(\"filename.csv\") \n",
    "data_3 = pd.read_csv(\"filename.csv\") "
   ]
  }
 ],
 "metadata": {
  "kernelspec": {
   "display_name": "Python 3",
   "language": "python",
   "name": "python3"
  },
  "language_info": {
   "codemirror_mode": {
    "name": "ipython",
    "version": 3
   },
   "file_extension": ".py",
   "mimetype": "text/x-python",
   "name": "python",
   "nbconvert_exporter": "python",
   "pygments_lexer": "ipython3",
   "version": "3.8.2"
  }
 },
 "nbformat": 4,
 "nbformat_minor": 5
}
